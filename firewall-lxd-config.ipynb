{
 "cells": [
  {
   "cell_type": "markdown",
   "id": "71328ee0-5f6c-422a-b4a0-2520e1db866d",
   "metadata": {},
   "source": [
    "# Assignment #1\n",
    "# Part 1: Getting Started ( 50 points )"
   ]
  },
  {
   "cell_type": "markdown",
   "id": "b8c66986-641b-4634-8da6-3b3592a1fb33",
   "metadata": {},
   "source": [
    "For this assignment, you will set up your class server. This server will be used for in-class exercises and assignments. The server is a Debian 12 virtual machine hosted on a Proxmox cluster in the WPEB T102 server room. Your container has an IP on a private `10.105.0.0/16` subnet within a software-defined network.\n",
    "\n",
    "\n",
    "\n",
    "TCP Port 8443 is a reverse proxy that uses OpenID Connect (OIDC). This is often called an identity-aware proxy because it inspects the OIDC claim from an identity provider and performs authorization. Your server's identity-aware reverse proxy will only provide access to your UNR username."
   ]
  },
  {
   "cell_type": "markdown",
   "id": "1426238e-4f66-45ba-a6d4-c7f5bae7de6c",
   "metadata": {},
   "source": [
    "## 1. Firewall Configuration ( 20 Points )\n",
    "Your server already has the dynamic firewall manager `firewalld` installed. \n",
    "I've created a few rules already for your server to access ttyd and Jupyter Lab through your browser:\n",
    "- Port 7681 - ttyd\n",
    "- Port 8888 - Jupyter Lab\n",
    "\n",
    "Do not modify these rules, or else you may lock yourself out of your server.\n",
    "\n",
    "This section walks you through configuring your system's firewall."
   ]
  },
  {
   "cell_type": "markdown",
   "id": "3394f6c5-6da5-4d50-b949-2bccaccceacb",
   "metadata": {},
   "source": [
    "### New zone and policy\n",
    "Nearly all firewall managers have the concept of a `zone`. A `zone` \"defines the trust level for a connection, interface or source address binding. This is a one to many relation, which means that a connection, interface or source can only be part of one zone, but a zone can be used for many network connections, interfaces, and sources.\"\n",
    "\n",
    "[firewalld zone documentation](https://firewalld.org/documentation/zone/#:~:text=A%20firewall%20zone%20defines%20the,network%20connections%2C%20interfaces%20and%20sources.)\n",
    "\n",
    "Look through the documentation for `firewalld` and use the `firewall-cmd` to create the following:\n",
    " - A `rule` associated with the `public` zone for HTTP and HTTPS\n",
    " - Remove `ssh` from the `public` zone.\n",
    " - A new `zone` named `lxd`\n",
    "   - Add two `services` to the zone, `dhcp` and `dns`.\n",
    "   - Add forwarding to the `lxd` zone.\n",
    "   - Change the target of the `lxd` zone from `default` to `ACCEPT`.\n",
    "\n",
    "Execute the commands below the printf statement in the cell below."
   ]
  },
  {
   "cell_type": "code",
   "execution_count": 1,
   "id": "8aef511f-8b6b-473e-aef7-8dac470f38a9",
   "metadata": {},
   "outputs": [
    {
     "name": "stdout",
     "output_type": "stream",
     "text": [
      "\u001b[91mWarning: ALREADY_ENABLED: http\u001b[00m\n",
      "success\n",
      "\u001b[91mWarning: ALREADY_ENABLED: https\u001b[00m\n",
      "success\n",
      "\u001b[91mWarning: NOT_ENABLED: ssh\u001b[00m\n",
      "success\n",
      "\u001b[91mError: NAME_CONFLICT: new_zone(): 'lxd'\u001b[00m\n",
      "\u001b[91mWarning: ALREADY_ENABLED: dhcp\u001b[00m\n",
      "success\n",
      "\u001b[91mWarning: ALREADY_ENABLED: dns\u001b[00m\n",
      "success\n",
      "success\n",
      "success\n",
      "success\n"
     ]
    }
   ],
   "source": [
    "# Write your commands here\n",
    "sudo firewall-cmd --permanent --zone=public --add-service=http\n",
    "sudo firewall-cmd --permanent --zone=public --add-service=https\n",
    "sudo firewall-cmd --permanent --zone=public --remove-service=ssh\n",
    "sudo firewall-cmd --permanent --new-zone=lxd\n",
    "sudo firewall-cmd --permanent --zone=lxd --add-service=dhcp\n",
    "sudo firewall-cmd --permanent --zone=lxd --add-service=dns\n",
    "sudo firewall-cmd --permanent --zone=lxd --add-forward\n",
    "sudo firewall-cmd --permanent --zone=lxd --set-target=ACCEPT\n",
    "\n",
    "sudo firewall-cmd --reload\n"
   ]
  },
  {
   "cell_type": "markdown",
   "id": "84c4ff8f-bf08-4f2b-88ed-78821064c8b2",
   "metadata": {},
   "source": [
    "### How do you know you did it correctly? Use these commands to check the zone configurations."
   ]
  },
  {
   "cell_type": "code",
   "execution_count": 2,
   "id": "ada8101a-b4ed-45d4-bd67-52d7a4f723bb",
   "metadata": {},
   "outputs": [
    {
     "name": "stdout",
     "output_type": "stream",
     "text": [
      "public\n",
      "  target: default\n",
      "  icmp-block-inversion: no\n",
      "  interfaces: \n",
      "  sources: \n",
      "  services: dhcpv6-client http https\n",
      "  ports: 8888/tcp 7681/tcp 22/tcp\n",
      "  protocols: \n",
      "  forward: yes\n",
      "  masquerade: no\n",
      "  forward-ports: \n",
      "  source-ports: \n",
      "  icmp-blocks: \n",
      "  rich rules: \n"
     ]
    }
   ],
   "source": [
    "sudo firewall-cmd --info-zone public"
   ]
  },
  {
   "cell_type": "code",
   "execution_count": 3,
   "id": "6966ae54-cd14-4fd7-8aca-dca5e6cb92b3",
   "metadata": {},
   "outputs": [
    {
     "name": "stdout",
     "output_type": "stream",
     "text": [
      "lxd\n",
      "  target: ACCEPT\n",
      "  icmp-block-inversion: no\n",
      "  interfaces: \n",
      "  sources: \n",
      "  services: dhcp dns\n",
      "  ports: \n",
      "  protocols: \n",
      "  forward: yes\n",
      "  masquerade: no\n",
      "  forward-ports: \n",
      "  source-ports: \n",
      "  icmp-blocks: \n",
      "  rich rules: \n"
     ]
    }
   ],
   "source": [
    "sudo firewall-cmd --info-zone lxd"
   ]
  },
  {
   "cell_type": "markdown",
   "id": "c8a1f464-f61f-4fbb-9607-8b5931b5b3e8",
   "metadata": {},
   "source": [
    "How can you use nmap to see if the `http` service rule is functioning properly?\n",
    "Write your answer in the cell below"
   ]
  },
  {
   "cell_type": "markdown",
   "id": "99d46c28-1574-4a45-abb1-2f2f62fe75fd",
   "metadata": {},
   "source": [
    "By specifing port 80 when scanning the container, to double check that the port is open. If the port is open. then the http service is probably functioning correctly. "
   ]
  },
  {
   "cell_type": "markdown",
   "id": "d8137657-b99a-4923-8a81-44606e96de76",
   "metadata": {},
   "source": [
    "## 2. LXD Configuration ( 10 points )\n",
    "LXD is a Linux container manager that was released in 2014. We are using containers to enhance the security and availability of\n",
    "the services hosted on your server. LXD will be the sandbox for services that you run on your server. We will use `snap` to install LXD. `snap` is a package manager that works across many different Linux distributions."
   ]
  },
  {
   "cell_type": "code",
   "execution_count": 5,
   "id": "254b603e-9876-473a-8c86-d24820176e15",
   "metadata": {},
   "outputs": [
    {
     "name": "stdout",
     "output_type": "stream",
     "text": [
      "Reading package lists... Done\n",
      "Building dependency tree... Done\n",
      "Reading state information... Done\n",
      "snapd is already the newest version (2.57.6-1+b5).\n",
      "0 upgraded, 0 newly installed, 0 to remove and 3 not upgraded.\n"
     ]
    }
   ],
   "source": [
    "sudo apt install -y snapd"
   ]
  },
  {
   "cell_type": "markdown",
   "id": "a82f276d-45ce-4b84-bd18-9696e1522230",
   "metadata": {},
   "source": [
    "Test to see if `snap` is installed."
   ]
  },
  {
   "cell_type": "code",
   "execution_count": 6,
   "id": "d645850b-d45a-4cc9-84d7-f29c4668c718",
   "metadata": {},
   "outputs": [
    {
     "name": "stdout",
     "output_type": "stream",
     "text": [
      "The snap command lets you install, configure, refresh and remove snaps.\n",
      "Snaps are packages that work across many different Linux distributions,\n",
      "enabling secure delivery and operation of the latest apps and utilities.\n",
      "\n",
      "Usage: snap <command> [<options>...]\n",
      "\n",
      "Commonly used commands can be classified as follows:\n",
      "\n",
      "           Basics: find, info, install, remove, list, components\n",
      "          ...more: refresh, revert, switch, disable, enable, create-cohort\n",
      "          History: changes, tasks, abort, watch\n",
      "          Daemons: services, start, stop, restart, logs\n",
      "      Permissions: connections, interface, connect, disconnect\n",
      "    Configuration: get, set, unset, wait\n",
      "      App Aliases: alias, aliases, unalias, prefer\n",
      "          Account: login, logout, whoami\n",
      "        Snapshots: saved, save, check-snapshot, restore, forget\n",
      "           Device: model, remodel, reboot, recovery\n",
      "     Quota Groups: set-quota, remove-quota, quotas, quota\n",
      "  Validation Sets: validate\n",
      "        ... Other: warnings, okay, known, ack, version\n",
      "      Development: validate\n",
      "\n",
      "For more information about a command, run 'snap help <command>'.\n",
      "For a short summary of all commands, run 'snap help --all'.\n"
     ]
    }
   ],
   "source": [
    "sudo snap --help"
   ]
  },
  {
   "cell_type": "code",
   "execution_count": 7,
   "id": "9d269dbd-6072-4afa-b3fb-070a37a576c1",
   "metadata": {},
   "outputs": [
    {
     "name": "stdout",
     "output_type": "stream",
     "text": [
      "snap \"core\" is already installed, see 'snap help refresh'\n"
     ]
    }
   ],
   "source": [
    "sudo snap install core lxd"
   ]
  },
  {
   "cell_type": "code",
   "execution_count": 8,
   "id": "4aac64aa-e546-4155-a21d-d662f7e989c1",
   "metadata": {},
   "outputs": [
    {
     "name": "stdout",
     "output_type": "stream",
     "text": [
      "2025-02-10T14:03:09-08:00 lxd.activate[6250]: ==> Creating missing snap configuration\n",
      "2025-02-10T14:03:09-08:00 lxd.activate[6250]: ==> Loading snap configuration\n",
      "2025-02-10T14:03:09-08:00 lxd.activate[6250]: ==> Checking for socket activation support\n",
      "2025-02-10T14:03:09-08:00 lxd.activate[6250]: ==> Creating \"lxd\" user\n",
      "2025-02-10T14:03:09-08:00 useradd[6486]: new user: name=lxd, UID=995, GID=111, home=/var/snap/lxd/common/lxd, shell=/bin/false, from=none\n",
      "2025-02-10T14:03:09-08:00 lxd.activate[6250]: ==> Setting LXD socket ownership\n",
      "2025-02-10T14:03:09-08:00 lxd.activate[6250]: ==> Setting LXD user socket ownership\n",
      "2025-02-10T14:03:09-08:00 lxd.activate[6250]: ==> LXD never started on this system, no need to start it now\n",
      "2025-02-10T14:03:09-08:00 systemd[1]: snap.lxd.activate.service: Deactivated successfully.\n",
      "2025-02-10T14:03:09-08:00 systemd[1]: Finished snap.lxd.activate.service - Service for snap application lxd.activate.\n"
     ]
    }
   ],
   "source": [
    "sudo snap logs lxd"
   ]
  },
  {
   "cell_type": "markdown",
   "id": "0f4ec360-2161-4b4b-995d-221922feba3d",
   "metadata": {},
   "source": [
    "Give yourself sudo permissions for lxd and add snap binaries to path"
   ]
  },
  {
   "cell_type": "code",
   "execution_count": 9,
   "id": "be822dcb-87ed-4eab-bd1b-b4f2c1f3c780",
   "metadata": {},
   "outputs": [],
   "source": [
    "sudo usermod -aG lxd $USER\n",
    "export PATH=$PATH:/snap/bin # Add snaps to path for current session\n",
    "echo 'export PATH=$PATH:/snap/bin' >> ~/.bashrc # Make it persist through reboots"
   ]
  },
  {
   "cell_type": "markdown",
   "id": "8ea1e7fc-2c09-464f-928f-27275f240c78",
   "metadata": {},
   "source": [
    "Now go through the `lxd init` flow in a terminal window.\n",
    " - Do not enable clustering\n",
    " - Configure a new storage pool of type `dir`\n",
    " - Do not connect to a MAAS server\n",
    " - Create a new local network bridge, `lxdbr0`\n",
    " - IPv4 and IPv6 CIDRs shoud be `auto`\n",
    " - Do not allow LXD to be accessible over the network\n",
    " - Update stale images automatically"
   ]
  },
  {
   "cell_type": "markdown",
   "id": "67efe104-55dd-44c9-8f69-c164f805adc3",
   "metadata": {},
   "source": [
    "- Add the `lxdbr0` interface to the `lxd` firewall zone\n",
    "- Don't forget to run `sudo firewall-cmd --reload` afterwards"
   ]
  },
  {
   "cell_type": "code",
   "execution_count": 10,
   "id": "0f37ccd6-4982-422d-8b55-3081c98a3f97",
   "metadata": {},
   "outputs": [
    {
     "name": "stdout",
     "output_type": "stream",
     "text": [
      "success\n",
      "success\n"
     ]
    }
   ],
   "source": [
    "# Write your commands here\n",
    "sudo firewall-cmd --zone=lxd --add-interface=lxdbr0\n",
    "sudo firewall-cmd --reload\n"
   ]
  },
  {
   "cell_type": "markdown",
   "id": "0a3c4b31-0d93-409f-9b11-af501bd47b01",
   "metadata": {},
   "source": [
    "## 3. How do you know if LXD works? ( 10 points )\n",
    "Use the `lxc` command to display information about various LXD components.\n",
    " - networking\n",
    " - storage\n",
    " - profiles\n",
    " - containers\n",
    "\n",
    "Hint: Look at the `lxc --help` output."
   ]
  },
  {
   "cell_type": "code",
   "execution_count": 11,
   "id": "0ca42ecb-d14b-4d1c-8e31-dcb988cfec6f",
   "metadata": {},
   "outputs": [
    {
     "name": "stdout",
     "output_type": "stream",
     "text": [
      "To start your first container, try: lxc launch ubuntu:24.04\n",
      "Or for a virtual machine: lxc launch ubuntu:24.04 --vm\n",
      "\n",
      "+---------+----------+---------+----------------+---------------------------+-------------+---------+---------+\n",
      "|  NAME   |   TYPE   | MANAGED |      IPV4      |           IPV6            | DESCRIPTION | USED BY |  STATE  |\n",
      "+---------+----------+---------+----------------+---------------------------+-------------+---------+---------+\n",
      "| enp6s18 | physical | NO      |                |                           |             | 0       |         |\n",
      "+---------+----------+---------+----------------+---------------------------+-------------+---------+---------+\n",
      "| lxdbr0  | bridge   | YES     | 10.222.37.1/24 | fd42:ec94:b4a8:7962::1/64 |             | 1       | CREATED |\n",
      "+---------+----------+---------+----------------+---------------------------+-------------+---------+---------+\n"
     ]
    }
   ],
   "source": [
    "# Networking\n",
    "lxc network list"
   ]
  },
  {
   "cell_type": "code",
   "execution_count": 12,
   "id": "39d95dba-0a94-44d8-9b90-9a09d903e054",
   "metadata": {},
   "outputs": [
    {
     "name": "stdout",
     "output_type": "stream",
     "text": [
      "+---------+--------+------------------------------------------------+-------------+---------+---------+\n",
      "|  NAME   | DRIVER |                     SOURCE                     | DESCRIPTION | USED BY |  STATE  |\n",
      "+---------+--------+------------------------------------------------+-------------+---------+---------+\n",
      "| default | dir    | /var/snap/lxd/common/lxd/storage-pools/default |             | 1       | CREATED |\n",
      "+---------+--------+------------------------------------------------+-------------+---------+---------+\n"
     ]
    }
   ],
   "source": [
    "# Storage\n",
    "lxc storage list "
   ]
  },
  {
   "cell_type": "code",
   "execution_count": 13,
   "id": "e23db27b-4077-4937-993e-0ea8abaae389",
   "metadata": {},
   "outputs": [
    {
     "name": "stdout",
     "output_type": "stream",
     "text": [
      "+---------+---------------------+---------+\n",
      "|  NAME   |     DESCRIPTION     | USED BY |\n",
      "+---------+---------------------+---------+\n",
      "| default | Default LXD profile | 0       |\n",
      "+---------+---------------------+---------+\n"
     ]
    }
   ],
   "source": [
    "# Profiles\n",
    "lxc profile list"
   ]
  },
  {
   "cell_type": "code",
   "execution_count": 14,
   "id": "fc34f4b5-1cbf-44d0-a2d6-555e3dd0af5d",
   "metadata": {},
   "outputs": [
    {
     "name": "stdout",
     "output_type": "stream",
     "text": [
      "+------+-------+------+------+------+-----------+\n",
      "| NAME | STATE | IPV4 | IPV6 | TYPE | SNAPSHOTS |\n",
      "+------+-------+------+------+------+-----------+\n"
     ]
    }
   ],
   "source": [
    "# Containers\n",
    "lxc list"
   ]
  },
  {
   "cell_type": "markdown",
   "id": "5c415473-583e-4c40-983b-e433776afa4a",
   "metadata": {},
   "source": [
    "## 3. Create a test container\n",
    "Take a look at the documentation for the `lxc launch` command. Create a container named `test0` it should be based on `ubuntu:22.04`."
   ]
  },
  {
   "cell_type": "code",
   "execution_count": null,
   "id": "5d5410b1-8692-45f7-9216-a9c3f8695a76",
   "metadata": {},
   "outputs": [],
   "source": [
    "# Launch command here\n",
    "lxc launch ubuntu:22.04 test0"
   ]
  },
  {
   "cell_type": "markdown",
   "id": "6bd6c7de-d82a-425b-966c-173593b277be",
   "metadata": {},
   "source": [
    "Testing `test0`"
   ]
  },
  {
   "cell_type": "code",
   "execution_count": null,
   "id": "4a4e0dba-3407-4ae6-96e2-7287c9c7ecf2",
   "metadata": {},
   "outputs": [],
   "source": [
    "lxc exec test0 -- hostname\n"
   ]
  },
  {
   "cell_type": "code",
   "execution_count": 37,
   "id": "b7d4c3a6-01e6-473d-bf09-6dc936ef0a7b",
   "metadata": {},
   "outputs": [
    {
     "name": "stdout",
     "output_type": "stream",
     "text": [
      "lo               UNKNOWN        127.0.0.1/8 ::1/128 \n",
      "eth0@if12        UP             fd42:ec94:b4a8:7962:216:3eff:feb3:7d41/64 fe80::216:3eff:feb3:7d41/64 \n"
     ]
    }
   ],
   "source": [
    "lxc exec test0 -- ip -brief addr show"
   ]
  },
  {
   "cell_type": "markdown",
   "id": "f41421d5-1b7d-4571-baef-c40339fca01d",
   "metadata": {},
   "source": [
    "Test communication to the Internet"
   ]
  },
  {
   "cell_type": "code",
   "execution_count": null,
   "id": "c8cb0397-3e80-443f-9bb8-45d1a253c53b",
   "metadata": {},
   "outputs": [],
   "source": [
    "lxc exec test0 -- ping -c 1 9.9.9.9"
   ]
  },
  {
   "cell_type": "code",
   "execution_count": null,
   "id": "27c19da5-d8b6-4929-a89c-314aa6e4a0ac",
   "metadata": {},
   "outputs": [],
   "source": []
  }
 ],
 "metadata": {
  "kernelspec": {
   "display_name": "Bash",
   "language": "bash",
   "name": "bash"
  },
  "language_info": {
   "codemirror_mode": "shell",
   "file_extension": ".sh",
   "mimetype": "text/x-sh",
   "name": "bash"
  }
 },
 "nbformat": 4,
 "nbformat_minor": 5
}
