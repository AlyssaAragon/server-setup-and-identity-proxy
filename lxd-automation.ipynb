{
 "cells": [
  {
   "cell_type": "markdown",
   "id": "96f84156-fba4-4f38-ab59-5267b2952f5a",
   "metadata": {},
   "source": [
    "# Assignment #1 \n",
    "# Part 2: LXD Automation ( 50 points )\n"
   ]
  },
  {
   "cell_type": "markdown",
   "id": "688e036f-6878-46bb-b88e-f25d58da9c95",
   "metadata": {},
   "source": [
    "## 1. Importing Images ( 10 points )\n",
    "Import two container images using the `lxc image copy` command.\n",
    "- Ubuntu 22.04 - jammy\n",
    "- Debian 12 - bookworm\n",
    "\n",
    "Hint: Use the bash command `lxc image copy images:$DISTRO/$VERSION local: --copy-aliases --auto-update`"
   ]
  },
  {
   "cell_type": "markdown",
   "id": "4665dfe0-92c2-432a-b996-9e585978ed54",
   "metadata": {},
   "source": [
    "### Testing"
   ]
  },
  {
   "cell_type": "code",
   "execution_count": 2,
   "id": "c6264305-f04b-414b-b177-8edb33e2f5e5",
   "metadata": {},
   "outputs": [],
   "source": [
    "import pprint\n",
    "from pylxd import Client\n",
    "\n",
    "client = Client()"
   ]
  },
  {
   "cell_type": "code",
   "execution_count": 3,
   "id": "8271080c-3f4d-49d3-984f-40096617764e",
   "metadata": {},
   "outputs": [],
   "source": [
    "images = client.images.all()"
   ]
  },
  {
   "cell_type": "code",
   "execution_count": 15,
   "id": "dd4c7eb7-f20e-439d-bf9a-a2f98727c5c0",
   "metadata": {},
   "outputs": [
    {
     "name": "stdout",
     "output_type": "stream",
     "text": [
      "[{'description': '', 'name': '22.04'},\n",
      " {'description': '', 'name': '22.04/amd64'},\n",
      " {'description': '', 'name': 'j'},\n",
      " {'description': '', 'name': 'j/amd64'},\n",
      " {'description': '', 'name': 'jammy'},\n",
      " {'description': '', 'name': 'jammy/amd64'}]\n",
      "[{'description': '', 'name': 'debian/bookworm/default'},\n",
      " {'description': '', 'name': 'debian/bookworm/default/amd64'},\n",
      " {'description': '', 'name': 'debian/bookworm'},\n",
      " {'description': '', 'name': 'debian/bookworm/amd64'},\n",
      " {'description': '', 'name': 'debian/12/default'},\n",
      " {'description': '', 'name': 'debian/12/default/amd64'},\n",
      " {'description': '', 'name': 'debian/12'},\n",
      " {'description': '', 'name': 'debian/12/amd64'}]\n",
      "[]\n"
     ]
    }
   ],
   "source": [
    "for i in images:\n",
    "    pprint.pprint(i.aliases)"
   ]
  },
  {
   "cell_type": "markdown",
   "id": "753f1378-2e71-4623-906a-1dc63c51b416",
   "metadata": {},
   "source": [
    "## 2. Creating Containers ( 10 points )\n",
    "Create three containers named `www0`, `www1`, and `www2`.\n",
    "\n",
    "Hint: https://pylxd.readthedocs.io/en/latest/instances.html"
   ]
  },
  {
   "cell_type": "code",
   "execution_count": null,
   "id": "ec315a17-aeee-4e0d-8a93-27b475c5db99",
   "metadata": {},
   "outputs": [],
   "source": [
    "# Write your code here\n",
    "#created containers in terminal using lxc launch "
   ]
  },
  {
   "cell_type": "markdown",
   "id": "6daabdc0-2246-4d2b-95e7-d12dbc2e7efe",
   "metadata": {},
   "source": [
    "Display containers:"
   ]
  },
  {
   "cell_type": "code",
   "execution_count": 16,
   "id": "2c749028-e1f6-4b3a-b10b-f881f5b35954",
   "metadata": {},
   "outputs": [
    {
     "name": "stdout",
     "output_type": "stream",
     "text": [
      "test0: Stopped\n",
      "www0: Running\n",
      "www1: Running\n",
      "www2: Running\n"
     ]
    }
   ],
   "source": [
    "for i in client.containers.all():\n",
    "    i.start()    \n",
    "    print(f'{i.name}: {i.status}')"
   ]
  },
  {
   "cell_type": "markdown",
   "id": "0863f995-c050-468d-b32c-ab5fd36786db",
   "metadata": {},
   "source": [
    "- We need to set the MTU of all containers to 1400 due to the VXLAN that your virtual server is on.\n",
    "- I've written the code for this below, so all you have to do is run it."
   ]
  },
  {
   "cell_type": "code",
   "execution_count": 4,
   "id": "a5e5c8a8-9c54-4b45-a33d-db5c3d941b83",
   "metadata": {},
   "outputs": [],
   "source": [
    "!/snap/bin/lxc exec www0 -- ip link set eth0 mtu 1400\n",
    "!/snap/bin/lxc exec www1 -- ip link set eth0 mtu 1400\n",
    "!/snap/bin/lxc exec www2 -- ip link set eth0 mtu 1400"
   ]
  },
  {
   "cell_type": "markdown",
   "id": "b6b87ab1-b5a2-4ec4-adf6-156cbde68f9f",
   "metadata": {},
   "source": [
    "## 3. Installing a webserver ( 10 points )\n",
    "For this section your will use the `pylxd` client update www[0:2] and install `apache2` with `apt`.\n",
    "\n",
    "Be patient - updating all 3 containers can take a while."
   ]
  },
  {
   "cell_type": "code",
   "execution_count": 5,
   "id": "a34435cd-7b34-4c8a-9f7d-5e78fc2e48be",
   "metadata": {},
   "outputs": [
    {
     "name": "stdout",
     "output_type": "stream",
     "text": [
      "updating www0...\n",
      "installing apache2 on www0...\n",
      "apache2 installed on www0\n",
      "\n",
      "updating www1...\n",
      "installing apache2 on www1...\n",
      "apache2 installed on www1\n",
      "\n",
      "updating www2...\n",
      "installing apache2 on www2...\n",
      "apache2 installed on www2\n",
      "\n"
     ]
    }
   ],
   "source": [
    "# Write your code here\n",
    "containers = [\"www0\", \"www1\", \"www2\"]\n",
    "for container_name in containers:\n",
    "    container = client.containers.get(container_name)\n",
    "    print(f\"updating {container_name}...\")\n",
    "    container.execute([\"apt\",\"update\"])\n",
    "    print(f\"installing apache2 on {container_name}...\")\n",
    "    container.execute([\"apt\", \"install\", \"-y\",\"apache2\"])\n",
    "    print(f\"apache2 installed on {container_name}\\n\")"
   ]
  },
  {
   "cell_type": "code",
   "execution_count": null,
   "id": "5f1f9ac7-1da8-4c4a-9fb1-febc26a5abfe",
   "metadata": {},
   "outputs": [],
   "source": []
  },
  {
   "cell_type": "markdown",
   "id": "75145f2c-1711-41d2-9ccb-95e4a9dd87b4",
   "metadata": {},
   "source": [
    "## 4. Testing your containers' webservers ( 20 points )\n",
    "Fetch each container's IP address using the `Instance.state()` function then use the python library `requests` to print out the HTTP status code."
   ]
  },
  {
   "cell_type": "code",
   "execution_count": 18,
   "id": "8cd0c42d-681a-4be3-9e7b-8aa23348db38",
   "metadata": {},
   "outputs": [
    {
     "name": "stdout",
     "output_type": "stream",
     "text": [
      "www0: Connection fail.\n",
      "www1: Connection fail.\n",
      "www2: Connection fail.\n"
     ]
    }
   ],
   "source": [
    "# Write your code here\n",
    "import requests\n",
    "from pylxd import Client\n",
    "client = Client()\n",
    "container_names = [\"www0\", \"www1\", \"www2\"]\n",
    "for container_name in container_names:\n",
    "    container = client.containers.get(container_name)\n",
    "    container_state = container.state()\n",
    "    ip = None\n",
    "    for network in container_state.network.values():\n",
    "        for address in network[\"addresses\"]:\n",
    "            if address[\"family\"] == \"inet\":\n",
    "                ip = address[\"address\"]\n",
    "                break\n",
    "    if ip is None:\n",
    "        print(f\"{container_name}: No ip found\")\n",
    "    else:\n",
    "        try:\n",
    "            response = requests.get(f\"http://{ip}\")\n",
    "            print(f\"{container_name}: http {response.status_code}\")\n",
    "        except requests.ConnectionError:\n",
    "            print(f\"{container_name}: Connection fail.\")"
   ]
  },
  {
   "cell_type": "code",
   "execution_count": null,
   "id": "52bf8075-da44-4e48-9c50-174ac0ba02ad",
   "metadata": {},
   "outputs": [],
   "source": [
    "# The connection failures in the code were caused by a network conflict between eth0 and lxdbr0, \n",
    "# as both were connected to the same network. To address this, I created a new bridge network (lxdbr1) \n",
    "# and moved the containers to it, eliminating the conflict. However, despite enabling DHCP for lxdbr1, \n",
    "# the containers still did not obtain IP addresses. I attempted to restart the containers to reflect the new settings,\n",
    "# but the issue persisted, leading to continued connection failures. This suggests that the containers may not have \n",
    "# been fully configured to adapt to the new network settings.\n"
   ]
  },
  {
   "cell_type": "markdown",
   "id": "651dcd8c-12a4-46d2-94e1-9b8fbf912c0d",
   "metadata": {},
   "source": [
    "## Mounting directories inside of a container's mount namespace"
   ]
  },
  {
   "cell_type": "markdown",
   "id": "a2227a52-32c1-4762-964d-23bdb42705e1",
   "metadata": {},
   "source": [
    "```\n",
    "mkdir -p /srv/data\n",
    "lxc config device add www0 data disk source=/srv/data/ path=/srv/data\n",
    "lxc exec www0 -- mount\n",
    "```"
   ]
  },
  {
   "cell_type": "markdown",
   "id": "5bf3d584-400c-4e6d-a48c-2b6dee0ac2b2",
   "metadata": {},
   "source": [
    "```\n",
    "root@o8horizt-server:~# lxc exec www0 -- mount\n",
    "/dev/vda1 on / type ext4 (rw,relatime)\n",
    "none on /dev type tmpfs (rw,relatime,size=492k,mode=755,uid=1000000,gid=1000000)\n",
    "proc on /proc type proc (rw,nosuid,nodev,noexec,relatime)\n",
    "sysfs on /sys type sysfs (rw,relatime)\n",
    "...\n",
    "...\n",
    "/dev/vda1 on /srv/data type ext4 (rw,relatime)\n",
    "```"
   ]
  },
  {
   "cell_type": "code",
   "execution_count": null,
   "id": "9f6eafb6-2e78-494c-a406-a05ee4a23951",
   "metadata": {},
   "outputs": [],
   "source": []
  }
 ],
 "metadata": {
  "kernelspec": {
   "display_name": "Python 3 (ipykernel)",
   "language": "python",
   "name": "python3"
  },
  "language_info": {
   "codemirror_mode": {
    "name": "ipython",
    "version": 3
   },
   "file_extension": ".py",
   "mimetype": "text/x-python",
   "name": "python",
   "nbconvert_exporter": "python",
   "pygments_lexer": "ipython3",
   "version": "3.11.2"
  }
 },
 "nbformat": 4,
 "nbformat_minor": 5
}
